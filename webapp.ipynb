{
  "nbformat": 4,
  "nbformat_minor": 0,
  "metadata": {
    "colab": {
      "provenance": []
    },
    "kernelspec": {
      "name": "python3",
      "display_name": "Python 3"
    },
    "language_info": {
      "name": "python"
    }
  },
  "cells": [
    {
      "cell_type": "markdown",
      "source": [
        "# Stream Lit  ML Web App Project"
      ],
      "metadata": {
        "id": "FkgCfs8TtopV"
      }
    },
    {
      "cell_type": "code",
      "source": [
        "%%writefile app.py\n"
      ],
      "metadata": {
        "colab": {
          "base_uri": "https://localhost:8080/"
        },
        "id": "48BJSJARtqtP",
        "outputId": "4b16c34c-0889-4b3c-e52e-33586b9b13dd"
      },
      "execution_count": 8,
      "outputs": [
        {
          "output_type": "stream",
          "name": "stdout",
          "text": [
            "Overwriting app.py\n"
          ]
        }
      ]
    },
    {
      "cell_type": "code",
      "source": [
        "! wget -q -O - ipv4.icanhazip.com"
      ],
      "metadata": {
        "colab": {
          "base_uri": "https://localhost:8080/"
        },
        "id": "EpeZDRxmtw3G",
        "outputId": "9f400b50-a9c8-45ae-8556-ad4bc6a146bf"
      },
      "execution_count": 9,
      "outputs": [
        {
          "output_type": "stream",
          "name": "stdout",
          "text": [
            "34.81.193.202\n"
          ]
        }
      ]
    },
    {
      "cell_type": "code",
      "source": [
        "app_code = \"\"\"\n",
        "import streamlit as st\n",
        "import pandas as pd\n",
        "import plotly.express as px\n",
        "import numpy as np\n",
        "import matplotlib.pyplot as plt\n",
        "import seaborn as sns\n",
        "import plotly.graph_objects as go\n",
        "\n",
        "# add title\n",
        "st.title('Data Analysis Web App')\n",
        "\n",
        "# create a dropdown list to choose a data set\n",
        "dataset_options = ['iris', 'tips', 'titanic']\n",
        "selected_dataset = st.selectbox('Select a dataset', dataset_options)\n",
        "\n",
        "# load the selected dataset\n",
        "if selected_dataset == 'iris':\n",
        "    df = sns.load_dataset('iris')\n",
        "elif selected_dataset == 'tips':\n",
        "    df = sns.load_dataset('tips')\n",
        "elif selected_dataset == 'titanic':\n",
        "    df = sns.load_dataset('titanic')\n",
        "\n",
        "# allow user to upload their own data set\n",
        "uploaded_file = st.file_uploader(\"Upload your own dataset (CSV)\", type=[\"csv\"])\n",
        "if uploaded_file is not None:\n",
        "    try:\n",
        "        df = pd.read_csv(uploaded_file)\n",
        "    except Exception as e:\n",
        "        st.error(f\"Error reading the uploaded file: {e}\")\n",
        "\n",
        "# display the data\n",
        "if 'df' in locals():\n",
        "    st.write(df)\n",
        "\n",
        "# display the number of rows and columns from selected data\n",
        "if 'df' in locals():\n",
        "    st.write(f\"Number of rows: {df.shape[0]}\")\n",
        "    st.write(f\"Number of columns: {df.shape[1]}\")\n",
        "\n",
        "# print the null values from the datset\n",
        "if 'df' in locals():\n",
        "    st.write(\"Null values:\")\n",
        "    st.write(df.isnull().sum())\n",
        "\n",
        "# display the summary statistics of the selected data\n",
        "if 'df' in locals():\n",
        "    st.write(\"Summary statistics:\")\n",
        "    st.write(df.describe())\n",
        "\n",
        "# select the specific for x and y axis from the dataset and then select the plot type to plot the data\n",
        "if 'df' in locals():\n",
        "    x_axis = st.selectbox(\"Select the x-axis\", df.columns)\n",
        "    y_axis = st.selectbox(\"Select the y-axis\", df.columns)\n",
        "    plot_type = st.selectbox(\"Select the plot type\", [\"bar\", \"line\", \"scatter\"])\n",
        "    plt.figure(figsize=(10, 6))\n",
        "    if plot_type == \"bar\":\n",
        "        plt.bar(df[x_axis], df[y_axis])\n",
        "    elif plot_type == \"line\":\n",
        "        plt.plot(df[x_axis], df[y_axis])\n",
        "        plt.xticks(rotation=90)\n",
        "    elif plot_type == \"scatter\":\n",
        "        plt.scatter(df[x_axis], df[y_axis])\n",
        "        plt.xticks(rotation=90)\n",
        "\n",
        "    plt.xlabel(x_axis)\n",
        "    plt.ylabel(y_axis)\n",
        "    plt.title(f\"{plot_type.capitalize()} Plot of {x_axis} vs {y_axis}\")\n",
        "    st.pyplot()\n",
        "\n",
        "# heatmap\n",
        "if 'df' in locals():\n",
        "    st.write(\"Correlation Heatmap:\")\n",
        "    plt.figure(figsize=(10, 6))\n",
        "    sns.heatmap(df.corr(), annot=True, cmap='coolwarm')\n",
        "    st.pyplot()\n",
        "\n",
        "\n",
        "\n",
        "\n",
        "\n",
        "\n",
        "\"\"\""
      ],
      "metadata": {
        "id": "sUwB29oSt69N"
      },
      "execution_count": 10,
      "outputs": []
    },
    {
      "cell_type": "code",
      "source": [
        "# Save the app code to a Python file\n",
        "with open('app.py', 'w') as f:\n",
        "    f.write(app_code)"
      ],
      "metadata": {
        "id": "xUQClOeWt9a-"
      },
      "execution_count": 11,
      "outputs": []
    },
    {
      "cell_type": "code",
      "source": [
        "! streamlit run app.py & npx localtunnel --port 8501\n"
      ],
      "metadata": {
        "colab": {
          "base_uri": "https://localhost:8080/"
        },
        "id": "7L_8hXpc3uBl",
        "outputId": "7806e7c8-6db1-450b-dc56-c6e476eb6eb7"
      },
      "execution_count": null,
      "outputs": [
        {
          "output_type": "stream",
          "name": "stdout",
          "text": [
            "\n",
            "Collecting usage statistics. To deactivate, set browser.gatherUsageStats to false.\n",
            "\u001b[0m\n",
            "\u001b[0m\n",
            "\u001b[34m\u001b[1m  You can now view your Streamlit app in your browser.\u001b[0m\n",
            "\u001b[0m\n",
            "\u001b[34m  Local URL: \u001b[0m\u001b[1mhttp://localhost:8501\u001b[0m\n",
            "\u001b[34m  Network URL: \u001b[0m\u001b[1mhttp://172.28.0.12:8501\u001b[0m\n",
            "\u001b[34m  External URL: \u001b[0m\u001b[1mhttp://34.81.193.202:8501\u001b[0m\n",
            "\u001b[0m\n",
            "your url is: https://weak-crabs-stop.loca.lt\n"
          ]
        }
      ]
    }
  ]
}